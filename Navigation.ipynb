{
 "cells": [
  {
   "cell_type": "markdown",
   "id": "responsible-completion",
   "metadata": {},
   "source": [
    "# Navigation\n",
    "\n",
    "---\n",
    "### 1. Start the Environment\n",
    "\n",
    "We begin by importing some necessary packages.  If the code cell below returns an error, please revisit the project instructions to double-check that you have installed [Unity ML-Agents](https://github.com/Unity-Technologies/ml-agents/blob/master/docs/Installation.md) and [NumPy](http://www.numpy.org/)."
   ]
  },
  {
   "cell_type": "code",
   "execution_count": 1,
   "id": "therapeutic-young",
   "metadata": {},
   "outputs": [],
   "source": [
    "from unityagents import UnityEnvironment\n",
    "import numpy as np"
   ]
  },
  {
   "cell_type": "markdown",
   "id": "drawn-cookbook",
   "metadata": {},
   "source": [
    "Next, we will start the environment!  **_Before running the code cell below_**, change the `file_name` parameter to match the location of the Unity environment that you downloaded.\n",
    "\n",
    "- **Mac**: `\"path/to/Banana.app\"`\n",
    "- **Windows** (x86): `\"path/to/Banana_Windows_x86/Banana.exe\"`\n",
    "- **Windows** (x86_64): `\"path/to/Banana_Windows_x86_64/Banana.exe\"`\n",
    "- **Linux** (x86): `\"path/to/Banana_Linux/Banana.x86\"`\n",
    "- **Linux** (x86_64): `\"path/to/Banana_Linux/Banana.x86_64\"`\n",
    "- **Linux** (x86, headless): `\"path/to/Banana_Linux_NoVis/Banana.x86\"`\n",
    "- **Linux** (x86_64, headless): `\"path/to/Banana_Linux_NoVis/Banana.x86_64\"`\n",
    "\n",
    "For instance, if you are using a Mac, then you downloaded `Banana.app`.  If this file is in the same folder as the notebook, then the line below should appear as follows:\n",
    "```\n",
    "env = UnityEnvironment(file_name=\"Banana.app\")\n",
    "```"
   ]
  },
  {
   "cell_type": "code",
   "execution_count": 2,
   "id": "improving-clark",
   "metadata": {},
   "outputs": [
    {
     "name": "stderr",
     "output_type": "stream",
     "text": [
      "INFO:unityagents:\n",
      "'Academy' started successfully!\n",
      "Unity Academy name: Academy\n",
      "        Number of Brains: 1\n",
      "        Number of External Brains : 1\n",
      "        Lesson number : 0\n",
      "        Reset Parameters :\n",
      "\t\t\n",
      "Unity brain name: BananaBrain\n",
      "        Number of Visual Observations (per agent): 0\n",
      "        Vector Observation space type: continuous\n",
      "        Vector Observation space size (per agent): 37\n",
      "        Number of stacked Vector Observation: 1\n",
      "        Vector Action space type: discrete\n",
      "        Vector Action space size (per agent): 4\n",
      "        Vector Action descriptions: , , , \n"
     ]
    }
   ],
   "source": [
    "env = UnityEnvironment(file_name=\"Banana_Windows_x86_64/Banana.exe\")"
   ]
  },
  {
   "cell_type": "markdown",
   "id": "lonely-edition",
   "metadata": {},
   "source": [
    "Environments contain **_brains_** which are responsible for deciding the actions of their associated agents. Here we check for the first brain available, and set it as the default brain we will be controlling from Python."
   ]
  },
  {
   "cell_type": "code",
   "execution_count": 3,
   "id": "regulated-oliver",
   "metadata": {},
   "outputs": [],
   "source": [
    "# get the default brain\n",
    "brain_name = env.brain_names[0]\n",
    "brain = env.brains[brain_name]"
   ]
  },
  {
   "cell_type": "markdown",
   "id": "lovely-aurora",
   "metadata": {},
   "source": [
    "### 2. Examine the State and Action Spaces\n",
    "\n",
    "The simulation contains a single agent that navigates a large environment.  At each time step, it has four actions at its disposal:\n",
    "- `0` - walk forward \n",
    "- `1` - walk backward\n",
    "- `2` - turn left\n",
    "- `3` - turn right\n",
    "\n",
    "The state space has `37` dimensions and contains the agent's velocity, along with ray-based perception of objects around agent's forward direction.  A reward of `+1` is provided for collecting a yellow banana, and a reward of `-1` is provided for collecting a blue banana. \n",
    "\n",
    "Run the code cell below to print some information about the environment."
   ]
  },
  {
   "cell_type": "code",
   "execution_count": 4,
   "id": "written-vampire",
   "metadata": {},
   "outputs": [
    {
     "name": "stdout",
     "output_type": "stream",
     "text": [
      "Number of agents: 1\n",
      "Number of actions: 4\n",
      "States look like: [1.         0.         0.         0.         0.84408134 0.\n",
      " 0.         1.         0.         0.0748472  0.         1.\n",
      " 0.         0.         0.25755    1.         0.         0.\n",
      " 0.         0.74177343 0.         1.         0.         0.\n",
      " 0.25854847 0.         0.         1.         0.         0.09355672\n",
      " 0.         1.         0.         0.         0.31969345 0.\n",
      " 0.        ]\n",
      "States have length: 37\n"
     ]
    }
   ],
   "source": [
    "# reset the environment\n",
    "env_info = env.reset(train_mode=True)[brain_name]\n",
    "\n",
    "# number of agents in the environment\n",
    "print('Number of agents:', len(env_info.agents))\n",
    "\n",
    "# number of actions\n",
    "action_size = brain.vector_action_space_size\n",
    "print('Number of actions:', action_size)\n",
    "\n",
    "# examine the state space \n",
    "state = env_info.vector_observations[0]\n",
    "print('States look like:', state)\n",
    "state_size = len(state)\n",
    "print('States have length:', state_size)"
   ]
  },
  {
   "cell_type": "markdown",
   "id": "historical-circular",
   "metadata": {},
   "source": [
    "### 3. Take Random Actions in the Environment\n",
    "\n",
    "In the next code cell, you will learn how to use the Python API to control the agent and receive feedback from the environment.\n",
    "\n",
    "Once this cell is executed, you will watch the agent's performance, if it selects an action (uniformly) at random with each time step.  A window should pop up that allows you to observe the agent, as it moves through the environment.  \n",
    "\n",
    "Of course, as part of the project, you'll have to change the code so that the agent is able to use its experience to gradually choose better actions when interacting with the environment!"
   ]
  },
  {
   "cell_type": "code",
   "execution_count": 5,
   "id": "beginning-harassment",
   "metadata": {},
   "outputs": [
    {
     "name": "stdout",
     "output_type": "stream",
     "text": [
      "Score: 2.0\n"
     ]
    }
   ],
   "source": [
    "env_info = env.reset(train_mode=False)[brain_name] # reset the environment\n",
    "state = env_info.vector_observations[0]            # get the current state\n",
    "score = 0                                          # initialize the score\n",
    "while True:\n",
    "    action = np.random.randint(action_size)        # select an action\n",
    "    env_info = env.step(action)[brain_name]        # send the action to the environment\n",
    "    next_state = env_info.vector_observations[0]   # get the next state\n",
    "    reward = env_info.rewards[0]                   # get the reward\n",
    "    done = env_info.local_done[0]                  # see if episode has finished\n",
    "    score += reward                                # update the score\n",
    "    state = next_state                             # roll over the state to next time step\n",
    "    if done:                                       # exit loop if episode finished\n",
    "        break\n",
    "    \n",
    "print(\"Score: {}\".format(score))"
   ]
  },
  {
   "cell_type": "markdown",
   "id": "emerging-collins",
   "metadata": {},
   "source": [
    "When finished, you can close the environment."
   ]
  },
  {
   "cell_type": "code",
   "execution_count": null,
   "id": "dietary-abraham",
   "metadata": {},
   "outputs": [],
   "source": [
    "env.close()"
   ]
  },
  {
   "cell_type": "markdown",
   "id": "concrete-witch",
   "metadata": {},
   "source": [
    "### 4. It's Your Turn!\n",
    "\n",
    "Now it's your turn to train your own agent to solve the environment!  When training the environment, set `train_mode=True`, so that the line for resetting the environment looks like the following:\n",
    "```python\n",
    "env_info = env.reset(train_mode=True)[brain_name]\n",
    "```"
   ]
  },
  {
   "cell_type": "markdown",
   "id": "available-cherry",
   "metadata": {},
   "source": [
    "# -------------------------------------------------------------------------------------------------------------"
   ]
  },
  {
   "cell_type": "markdown",
   "id": "practical-runner",
   "metadata": {},
   "source": [
    "# Deep Neural Network"
   ]
  },
  {
   "cell_type": "code",
   "execution_count": 28,
   "id": "empirical-karen",
   "metadata": {},
   "outputs": [],
   "source": [
    "import random\n",
    "import numpy as np\n",
    "import pandas as pd\n",
    "from collections import namedtuple, deque\n",
    "import seaborn as sns\n",
    "sns.set_theme(style=\"darkgrid\")\n",
    "sns.set(rc={'figure.figsize':(15,7)})\n",
    "\n",
    "import torch as T\n",
    "import torch.nn as nn\n",
    "import torch.nn.functional as F\n",
    "import torch.optim as optim\n",
    "import gym\n",
    "\n",
    "device = T.device(\"cuda:0\" if T.cuda.is_available() else \"cpu\")"
   ]
  },
  {
   "cell_type": "code",
   "execution_count": 29,
   "id": "concerned-appeal",
   "metadata": {},
   "outputs": [],
   "source": [
    "class DeepNeuralNetwork(nn.Module):\n",
    "    def __init__(self, state_shape, action_shape, layers=[64, 128], lr=0.0005):\n",
    "        super(DeepNeuralNetwork, self).__init__()          \n",
    "        self.state_shape = state_shape\n",
    "        self.action_shape = action_shape\n",
    "        self.layers = layers\n",
    "        self.lr = lr\n",
    "\n",
    "        #Allows to create layers dynamically\n",
    "        self.fc = nn.ModuleList()\n",
    "\n",
    "        self.fc.append(nn.Linear(state_shape, layers[0]))\n",
    "\n",
    "        for i in range(len(self.layers)-1):\n",
    "            self.fc.append(nn.Linear(layers[i], layers[i+1]))\n",
    "                \n",
    "        self.v = nn.Linear(self.layers[-1], 1)\n",
    "        self.a = nn.Linear(self.layers[-1], self.action_shape)\n",
    "\n",
    "        self.optimizer = optim.Adam(self.parameters(), lr=lr)\n",
    "        self.loss = nn.MSELoss()\n",
    "        self.to(device)\n",
    "            \n",
    "    def forward(self, state):\n",
    "        x = F.relu(self.fc[0](state))\n",
    "\n",
    "        for i in range(len(self.layers)-1):\n",
    "            x = F.relu(self.fc[i+1](x))\n",
    "        \n",
    "        v = self.v(x)\n",
    "        a = self.a(x)\n",
    "\n",
    "        output = v + (a - a.mean(1).unsqueeze(1))\n",
    "\n",
    "        return output"
   ]
  },
  {
   "cell_type": "markdown",
   "id": "handmade-ability",
   "metadata": {},
   "source": [
    "# Replay Buffer"
   ]
  },
  {
   "cell_type": "code",
   "execution_count": 30,
   "id": "removable-document",
   "metadata": {},
   "outputs": [],
   "source": [
    "class ReplayBuffer:\n",
    "    def __init__(self, buffer_size, batch_size):\n",
    "        self.memory = deque(maxlen=buffer_size)  \n",
    "        self.batch_size = batch_size\n",
    "        self.experience = namedtuple(\"Experience\", field_names=[\"state\", \"action\", \"reward\", \"next_state\", \"done\"])\n",
    "    \n",
    "    def add(self, state, action, reward, next_state, done):\n",
    "        e = self.experience(state, action, reward, next_state, done)\n",
    "        self.memory.append(e)\n",
    "    \n",
    "    def sample(self):\n",
    "        experiences = random.sample(self.memory, k=self.batch_size)\n",
    "\n",
    "        states = T.from_numpy(np.vstack([e.state for e in experiences if e is not None])).float().to(device)\n",
    "        actions = T.from_numpy(np.vstack([e.action for e in experiences if e is not None])).long().to(device)\n",
    "        rewards = T.from_numpy(np.vstack([e.reward for e in experiences if e is not None])).float().to(device)\n",
    "        next_states = T.from_numpy(np.vstack([e.next_state for e in experiences if e is not None])).float().to(device)\n",
    "        dones = T.from_numpy(np.vstack([e.done for e in experiences if e is not None]).astype(np.uint8)).float().to(device)\n",
    "  \n",
    "        return (states, actions, rewards, next_states, dones)\n",
    "\n",
    "    def __len__(self):\n",
    "        return len(self.memory)"
   ]
  },
  {
   "cell_type": "markdown",
   "id": "unlikely-blame",
   "metadata": {},
   "source": [
    "# Agent"
   ]
  },
  {
   "cell_type": "code",
   "execution_count": 34,
   "id": "composite-philip",
   "metadata": {},
   "outputs": [],
   "source": [
    "BUFFER_SIZE = int(100000)  # replay buffer size\n",
    "BATCH_SIZE = 64            # minibatch size\n",
    "GAMMA = 0.99               # discount factor\n",
    "TAU = 0.001                # for soft update of target parameters\n",
    "LR = 0.0005                # learning rate \n",
    "UPDATE_EVERY = 4           # how often to update the network\n",
    "LAYERS = [64, 128]         # neural network num of layers\n",
    "\n",
    "class Agent():\n",
    "\n",
    "    def __init__(self, state_shape, action_shape):\n",
    "        self.state_shape = state_shape\n",
    "        self.action_shape = action_shape\n",
    "                \n",
    "        # Neural nets    \n",
    "        self.dqn_local  = DeepNeuralNetwork(self.state_shape, self.action_shape, layers=LAYERS, lr=LR)\n",
    "        self.dqn_target = DeepNeuralNetwork(self.state_shape, self.action_shape, layers=LAYERS, lr=LR)\n",
    "            \n",
    "        # Replay memory\n",
    "        self.memory = ReplayBuffer(BUFFER_SIZE, BATCH_SIZE)\n",
    "        self.update_control = 0\n",
    "    \n",
    "    def step(self, state, action, reward, next_state, done):\n",
    "        self.memory.add(state, action, reward, next_state, done)\n",
    "        \n",
    "        self.update_control += 1\n",
    "        if self.update_control == UPDATE_EVERY:\n",
    "\n",
    "            if len(self.memory) > BATCH_SIZE:\n",
    "                experiences = self.memory.sample()\n",
    "                self.learn(experiences, GAMMA)\n",
    "            \n",
    "            self.update_control = 0\n",
    "            \n",
    "\n",
    "    def act(self, state, eps=0.):\n",
    "        state = T.from_numpy(state).float().unsqueeze(0).to(device)\n",
    "        self.dqn_local.eval()\n",
    "        with T.no_grad():\n",
    "            action_values = self.dqn_local(state)\n",
    "        self.dqn_local.train()\n",
    "\n",
    "        # Epsilon-greedy action selection\n",
    "        if random.random() > eps:\n",
    "            return np.argmax(action_values.cpu().data.numpy()).astype(np.int32)\n",
    "        else:\n",
    "            return random.choice(np.arange(self.action_shape))        \n",
    "        \n",
    "\n",
    "    def learn(self, experiences, gamma):\n",
    "\n",
    "        states, actions, rewards, next_states, dones = experiences\n",
    "\n",
    "        # 1) Obtain values for next states from local net\n",
    "        q_local_next_states = self.dqn_local.forward(next_states)\n",
    "        \n",
    "        # 2) Obtain actions for next states from local net\n",
    "        _, q_local_next_states_action = T.max(q_local_next_states, dim=1)\n",
    "        \n",
    "        # 3) Obtain values for next states from target net\n",
    "        q_target_next_states = self.dqn_target.forward(next_states)\n",
    "        \n",
    "        # 4) Use actions from local net to obtain next state Q values from target net\n",
    "        q_target_next_states_action = q_target_next_states[T.arange(BATCH_SIZE, dtype=T.long), q_local_next_states_action.reshape(BATCH_SIZE)]\n",
    "\n",
    "        # 5) Calculate Y for target\n",
    "        q_target_next_states_action = q_target_next_states_action * (1 - dones.reshape(BATCH_SIZE)) \n",
    "        q_target_next_states_action = q_target_next_states_action.reshape((BATCH_SIZE,1))\n",
    "        Y_t = rewards + gamma * q_target_next_states_action\n",
    "        \n",
    "        # 6) Calculate Y for local\n",
    "        q_local_states = self.dqn_local.forward(states)\n",
    "        Y_l = q_local_states[T.arange(BATCH_SIZE, dtype=T.long), actions.reshape(BATCH_SIZE)]\n",
    "        Y_l = Y_l.reshape((BATCH_SIZE,1))\n",
    "        \n",
    "        # 7) Process backpropagation\n",
    "        loss = F.mse_loss(Y_l, Y_t)\n",
    "\n",
    "        self.dqn_local.optimizer.zero_grad()\n",
    "        loss.backward()\n",
    "        self.dqn_local.optimizer.step()\n",
    "\n",
    "        # 8) Update target network parameters\n",
    "        self.update(self.dqn_local, self.dqn_target, TAU)                     \n",
    "\n",
    "    def update(self, local_model, target_model, tau):\n",
    "\n",
    "        for target_param, local_param in zip(target_model.parameters(), local_model.parameters()):\n",
    "            target_param.data.copy_(tau*local_param.data + (1.0-tau)*target_param.data)\n",
    "            \n",
    "    def save_model(self):\n",
    "        T.save(self.dqn_local.state_dict(), 'trained_model.pth')\n",
    "        \n",
    "    def load_model(self):\n",
    "        self.dqn_local.load_state_dict(T.load('trained_model.pth'))\n",
    "        self.dqn_local.eval()"
   ]
  },
  {
   "cell_type": "markdown",
   "id": "everyday-craps",
   "metadata": {},
   "source": [
    "# Train"
   ]
  },
  {
   "cell_type": "code",
   "execution_count": 35,
   "id": "crazy-sociology",
   "metadata": {},
   "outputs": [
    {
     "name": "stdout",
     "output_type": "stream",
     "text": [
      "Game 100  --->  Avg Reward: 2.05\n",
      "Game 200  --->  Avg Reward: 7.22\n",
      "Game 300  --->  Avg Reward: 11.78\n",
      "Game 400  --->  Avg Reward: 13.11\n",
      "Game 500  --->  Avg Reward: 15.08\n",
      "Game 600  --->  Avg Reward: 16.04\n",
      "Game 700  --->  Avg Reward: 15.78\n",
      "Game 800  --->  Avg Reward: 17.0\n",
      "Game 900  --->  Avg Reward: 15.84\n",
      "Game 1000  --->  Avg Reward: 15.73\n",
      "Game 1100  --->  Avg Reward: 15.4\n",
      "Game 1200  --->  Avg Reward: 16.53\n",
      "Game 1300  --->  Avg Reward: 16.61\n",
      "Game 1400  --->  Avg Reward: 15.81\n",
      "Game 1500  --->  Avg Reward: 16.51\n",
      "Game 1600  --->  Avg Reward: 16.12\n",
      "Game 1700  --->  Avg Reward: 16.83\n",
      "Game 1800  --->  Avg Reward: 16.42\n",
      "Game 1900  --->  Avg Reward: 16.16\n"
     ]
    }
   ],
   "source": [
    "EPS_START = 1.0\n",
    "EPS_END = 0.01\n",
    "EPS_DECAY = 0.995\n",
    "N_GAMES = 2000\n",
    "scores= []\n",
    "average = []\n",
    "\n",
    "agent = Agent(state_shape=37, action_shape=4)\n",
    "\n",
    "eps = EPS_START\n",
    "\n",
    "for episode in range(N_GAMES):\n",
    "    \n",
    "    env_info = env.reset(train_mode=True)[brain_name]  # reset the environment\n",
    "    state = env_info.vector_observations[0]            # get the current state\n",
    "    \n",
    "    score = 0\n",
    "    done = False\n",
    "    \n",
    "    while not done:  \n",
    "        action = agent.act(state)                      # select an action\n",
    "        env_info = env.step(action)[brain_name]        # send the action to the environment\n",
    "        next_state = env_info.vector_observations[0]   # get the next state\n",
    "        reward = env_info.rewards[0]                   # get the reward\n",
    "        done = env_info.local_done[0]                  # see if episode has finished\n",
    "        score += reward                                # update the score\n",
    "\n",
    "        agent.step(state, action, reward, next_state, done)\n",
    "\n",
    "        state = next_state                             # roll over the state to next time step\n",
    "    \n",
    "    scores.append(score)\n",
    "    avg_score = np.mean(scores[-100:])\n",
    "    average.append(avg_score)\n",
    "    \n",
    "    eps = max(EPS_END, eps * EPS_DECAY)\n",
    "\n",
    "    if episode % 100 == 0 and episode != 0:\n",
    "        print('Game {0}  --->  Avg Reward: {1}'.format(episode, round(np.mean(avg_score), 2), end=\"\"))\n",
    "        agent.save_model()\n",
    "    \n",
    "average = pd.DataFrame(average, columns=['Reward'])"
   ]
  },
  {
   "cell_type": "code",
   "execution_count": 36,
   "id": "stuffed-mongolia",
   "metadata": {},
   "outputs": [
    {
     "data": {
      "text/plain": [
       "<AxesSubplot:ylabel='Reward'>"
      ]
     },
     "execution_count": 36,
     "metadata": {},
     "output_type": "execute_result"
    },
    {
     "data": {
      "image/png": "[encoded data removed]",
      "text/plain": [
       "<Figure size 1080x504 with 1 Axes>"
      ]
     },
     "metadata": {},
     "output_type": "display_data"
    }
   ],
   "source": [
    "sns.lineplot(x=average.index, y=average.Reward, data=average)"
   ]
  },
  {
   "cell_type": "markdown",
   "id": "sufficient-spending",
   "metadata": {},
   "source": [
    "# Testing the agent"
   ]
  },
  {
   "cell_type": "code",
   "execution_count": 37,
   "id": "annual-exchange",
   "metadata": {},
   "outputs": [
    {
     "name": "stdout",
     "output_type": "stream",
     "text": [
      "Score: 20.0\n"
     ]
    }
   ],
   "source": [
    "agent = Agent(state_shape=37, action_shape=4)   # load trained model\n",
    "agent.load_model()\n",
    "\n",
    "env_info = env.reset(train_mode=False)[brain_name] # reset the environment\n",
    "state = env_info.vector_observations[0]            # get the current state\n",
    "score = 0                                          # initialize the score\n",
    "while True:\n",
    "    action = agent.act(state)                 # select an action\n",
    "    env_info = env.step(action)[brain_name]        # send the action to the environment\n",
    "    next_state = env_info.vector_observations[0]   # get the next state\n",
    "    reward = env_info.rewards[0]                   # get the reward\n",
    "    done = env_info.local_done[0]                  # see if episode has finished\n",
    "    score += reward                                # update the score\n",
    "    state = next_state                             # roll over the state to next time step\n",
    "    if done:                                       # exit loop if episode finished\n",
    "        break\n",
    "    \n",
    "print(\"Score: {}\".format(score))"
   ]
  }
 ],
 "metadata": {
  "kernelspec": {
   "display_name": "Python 3",
   "language": "python",
   "name": "python3"
  },
  "language_info": {
   "codemirror_mode": {
    "name": "ipython",
    "version": 3
   },
   "file_extension": ".py",
   "mimetype": "text/x-python",
   "name": "python",
   "nbconvert_exporter": "python",
   "pygments_lexer": "ipython3",
   "version": "3.6.12"
  }
 },
 "nbformat": 4,
 "nbformat_minor": 5
}
